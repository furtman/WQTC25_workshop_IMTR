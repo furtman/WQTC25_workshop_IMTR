{
  "cells": [
    {
      "cell_type": "markdown",
      "metadata": {
        "id": "view-in-github",
        "colab_type": "text"
      },
      "source": [
        "<a href=\"https://colab.research.google.com/github/epaul-eki/WQTC25_workshop_IMTR/blob/main/water_quality_visualization.ipynb\" target=\"_parent\"><img src=\"https://colab.research.google.com/assets/colab-badge.svg\" alt=\"Open In Colab\"/></a>"
      ]
    },
    {
      "cell_type": "markdown",
      "source": [
        "# **Water Quality Data Visualization using Google Colab and R**\n",
        "## AWWA WQTC 2025 Data Analysis and Coding Workshop\n",
        "\n",
        "---\n",
        "\n",
        "This notebook walks through building and running an interactive **Shiny** dashboard inside **Google Colab** using the **R** programming language. Users will learn how to load, inspect, and analyze data from a spreadsheet, generate visualizations of time series plots and maps, and develop an easy-to-use dashboard that synthesizes data into single webpage.\n",
        "\n",
        "The data used in this notebook is publicly available at Thurston County:\n",
        "1.   Water Quality Data: https://github.com/HerreraEnvironmental/23-08082-000-TC-WQ-Dashboard/blob/main/wqp_data.csv\n",
        "2.   Stream Site Locations and Aquatic Use Data: https://github.com/HerreraEnvironmental/23-08082-000-TC-WQ-Dashboard/blob/main/outputs/streams_sites.csv\n",
        "\n",
        "Thurston County Streams Water Quality Dashboard: https://www.thurstoncountywa.gov/streams-water-quality-dashboard\n",
        "\n",
        "---\n",
        "\n",
        "Notebook Table of Contents:\n",
        "1.   Setup R and Install Packages\n",
        "2.   Load R Libraries\n",
        "3.   Load and Inspect Data\n",
        "4.   Data Cleaning and Processing\n",
        "5.   Generating Plots\n",
        "6.   Generating Statistics\n",
        "7.   Generating Maps"
      ],
      "metadata": {
        "id": "KoemvlApqdWx"
      }
    },
    {
      "cell_type": "markdown",
      "source": [
        "## 1. Setup R and Install Packages\n",
        "Prior to installing any packages, please change the **runtime type** to **R**.\n",
        "\n"
      ],
      "metadata": {
        "id": "SOwfXpnOxRtm"
      }
    },
    {
      "cell_type": "code",
      "source": [
        "# Install necessary packages (may take 6-8 minutes)\n",
        "install.packages(c(\"shiny\", \"ggplot2\", \"dplyr\", \"lubridate\", \"leaflet\"))"
      ],
      "metadata": {
        "id": "mETAgh8Xnuyt"
      },
      "execution_count": null,
      "outputs": []
    },
    {
      "cell_type": "markdown",
      "source": [
        "## 2. Load R Libraries"
      ],
      "metadata": {
        "id": "iafWRDeWxpjR"
      }
    },
    {
      "cell_type": "code",
      "source": [
        "library(shiny)\n",
        "library(ggplot2)\n",
        "library(dplyr)\n",
        "library(lubridate)\n",
        "library(leaflet)"
      ],
      "metadata": {
        "id": "es0shomvxxdw"
      },
      "execution_count": null,
      "outputs": []
    },
    {
      "cell_type": "markdown",
      "source": [
        "## 3. Load and Inspect Data"
      ],
      "metadata": {
        "id": "rbpSAyCQyR_2"
      }
    },
    {
      "cell_type": "code",
      "source": [
        "# URLs of water quality data (Thurston County)\n",
        "sites_url <- \"https://raw.githubusercontent.com/HerreraEnvironmental/23-08082-000-TC-WQ-Dashboard/main/outputs/streams_sites.csv\"\n",
        "data_url <- \"https://raw.githubusercontent.com/HerreraEnvironmental/23-08082-000-TC-WQ-Dashboard/main/wqp_data.csv\""
      ],
      "metadata": {
        "id": "PeCnMrDlyC9n"
      },
      "execution_count": null,
      "outputs": []
    },
    {
      "cell_type": "code",
      "source": [
        "# Read in stream site location data\n",
        "sites <- read.csv(sites_url)\n",
        "print(\"This is the stream site location data:\")\n",
        "head(sites)"
      ],
      "metadata": {
        "id": "otTeWFqL57d2"
      },
      "execution_count": null,
      "outputs": []
    },
    {
      "cell_type": "code",
      "source": [
        "# Read in water quality data\n",
        "data <- read.csv(data_url)\n",
        "print(\"This is the water quality data associated with each stream site:\")\n",
        "data"
      ],
      "metadata": {
        "id": "Y0Xt-Hwb5vM7"
      },
      "execution_count": null,
      "outputs": []
    },
    {
      "cell_type": "markdown",
      "source": [
        "## 4. Data Cleaning and Processing"
      ],
      "metadata": {
        "id": "UFsRaVj57jEr"
      }
    },
    {
      "cell_type": "code",
      "source": [
        "# Convert date_time column to a \"date\" data type\n",
        "data$date_time <- parse_date_time(data$date_time, orders = c(\"ymd\", \"ymd HMS\")) # since the dates are in multiple formats, we need to define those\n",
        "\n",
        "head(data)"
      ],
      "metadata": {
        "id": "KYGA65zy7l66"
      },
      "execution_count": null,
      "outputs": []
    },
    {
      "cell_type": "code",
      "source": [
        "# Join the two dataframes based on a common column (e.g., SITE_NAME)\n",
        "data <- data %>%\n",
        "  left_join(sites %>% select(SITE_NAME, AquaticLifeUse), by = \"SITE_NAME\") # select the columns from the stream site data that you want to keep\n",
        "\n",
        "head(data)"
      ],
      "metadata": {
        "id": "3A1pkzcO8QVW"
      },
      "execution_count": null,
      "outputs": []
    },
    {
      "cell_type": "code",
      "source": [
        "# Stream site names\n",
        "site_names <- unique(data$SITE_NAME)\n",
        "site_names"
      ],
      "metadata": {
        "id": "ttUwqiM59q9y"
      },
      "execution_count": null,
      "outputs": []
    },
    {
      "cell_type": "code",
      "source": [
        "# Water quality parameters\n",
        "param_names <- unique(data$parameter)\n",
        "param_names"
      ],
      "metadata": {
        "id": "29xRroPXAK1w"
      },
      "execution_count": null,
      "outputs": []
    },
    {
      "cell_type": "markdown",
      "source": [
        "## 5. Generating Plots"
      ],
      "metadata": {
        "id": "Zk0IV2l1A38G"
      }
    },
    {
      "cell_type": "code",
      "source": [
        "# Choose a site and parameter\n",
        "example_site <- site_names[47]\n",
        "print(paste('The site name is:', example_site))\n",
        "\n",
        "example_param <- param_names[3]\n",
        "print(paste('The parameter name is:', example_param))"
      ],
      "metadata": {
        "id": "-ajs2xKKA-Kw"
      },
      "execution_count": null,
      "outputs": []
    },
    {
      "cell_type": "code",
      "source": [
        "# Filter data based on selections above\n",
        "filtered_data <- data %>%\n",
        "  filter(SITE_NAME == example_site, parameter == example_param)\n",
        "filtered_data"
      ],
      "metadata": {
        "id": "swyFbqJRDexR"
      },
      "execution_count": null,
      "outputs": []
    },
    {
      "cell_type": "code",
      "source": [
        "# Generate a basic plot\n",
        "ggplot(data = filtered_data, aes(x = date_time, y = value)) +\n",
        "  geom_line(color = \"blue\")"
      ],
      "metadata": {
        "id": "YNKnscwsHd4q"
      },
      "execution_count": null,
      "outputs": []
    },
    {
      "cell_type": "code",
      "source": [
        "# Edit the plot\n",
        "ggplot(data = filtered_data, aes(x = date_time, y = value)) +\n",
        "  geom_line(color = \"blue\") +\n",
        "  geom_point(color = \"darkblue\") + # add points\n",
        "  labs(title = paste(example_param, \"at\", example_site), # plot title\n",
        "        x = \"Date\", # x-axis title\n",
        "        y = paste0(example_param, \" (\", unique(filtered_data$unit), \")\")) + # y-axis title\n",
        "  theme(\n",
        "    plot.title = element_text(size = 16), # plot title font size\n",
        "    axis.title = element_text(size = 14), # axis title font size\n",
        "    axis.text = element_text(size = 14) # axis text (values and dates) font size\n",
        "  )"
      ],
      "metadata": {
        "id": "CsMGYqOTKnM7"
      },
      "execution_count": null,
      "outputs": []
    },
    {
      "cell_type": "code",
      "source": [
        "# Use a for loop to generate plots of stream temperature at each site location and save as a pdf\n"
      ],
      "metadata": {
        "id": "japNNgAdLqZ3"
      },
      "execution_count": null,
      "outputs": []
    },
    {
      "cell_type": "markdown",
      "source": [
        "## 6. Generating Statistics"
      ],
      "metadata": {
        "id": "aYCZ7nH1LU4c"
      }
    },
    {
      "cell_type": "code",
      "source": [
        "# Generate some basic stats of the example site and parameter\n",
        "mean <- mean(filtered_data$value)\n",
        "min <- min(filtered_data$value)\n",
        "max <- max(filtered_data$value)\n",
        "\n",
        "paste('The MEAN', example_param, 'at', example_site, 'is:', mean, unique(filtered_data$unit))\n",
        "paste('The MIN', example_param, 'at', example_site, 'is:', min, unique(filtered_data$unit))\n",
        "paste('The MAX', example_param, 'at', example_site, 'is:', max, unique(filtered_data$unit))"
      ],
      "metadata": {
        "id": "JtQxUYSuLcPq"
      },
      "execution_count": null,
      "outputs": []
    },
    {
      "cell_type": "code",
      "source": [
        "# Generate a summary table of stats\n",
        "summary_table <- filtered_data %>%\n",
        "  summarise(\n",
        "    Records = n(), # number of records\n",
        "    Mean = round(mean(value, na.rm = TRUE), 2), # mean rounded to 2 decimals\n",
        "    Min = round(min(value, na.rm = TRUE), 2), # min rounded to 2 decimals\n",
        "    Max = round(max(value, na.rm = TRUE), 2), # max rounded to 2 decimals\n",
        "    First_Record = min(date_time),\n",
        "    Last_Record = max(date_time)\n",
        "  )\n",
        "\n",
        "summary_table\n"
      ],
      "metadata": {
        "id": "Jhx9EOVZNKfL"
      },
      "execution_count": null,
      "outputs": []
    },
    {
      "cell_type": "markdown",
      "source": [
        "## 7. Generating Maps"
      ],
      "metadata": {
        "id": "kQESUKPdQRWR"
      }
    }
  ],
  "metadata": {
    "colab": {
      "name": "Welcome To Colab",
      "toc_visible": true,
      "provenance": [],
      "include_colab_link": true
    },
    "kernelspec": {
      "display_name": "R",
      "name": "ir"
    },
    "language_info": {
      "name": "R"
    }
  },
  "nbformat": 4,
  "nbformat_minor": 0
}